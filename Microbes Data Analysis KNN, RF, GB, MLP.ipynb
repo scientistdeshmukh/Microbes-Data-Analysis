{
 "cells": [
  {
   "cell_type": "markdown",
   "id": "b4da9fef",
   "metadata": {},
   "source": [
    "### Microbes data analysis"
   ]
  },
  {
   "cell_type": "markdown",
   "id": "bad1b977",
   "metadata": {},
   "source": [
    "This is the dataset for 10 different microbes (Spirogyra, Volvox, Pithophora, Yeast, Raizopus, Penicillum, Aspergillus, Diatom, Ulothix). Here we will do data analysis and build models."
   ]
  },
  {
   "cell_type": "markdown",
   "id": "4fc34f9f",
   "metadata": {},
   "source": [
    "### 1. Load libraries"
   ]
  },
  {
   "cell_type": "code",
   "execution_count": 2,
   "id": "06ebaa0c",
   "metadata": {},
   "outputs": [],
   "source": [
    "import pandas as pd\n",
    "import numpy as np\n",
    "import seaborn as sns\n",
    "import matplotlib.pyplot as plt\n",
    "from scipy import stats\n",
    "\n",
    "from sklearn.metrics import confusion_matrix\n",
    "from sklearn.preprocessing import StandardScaler\n",
    "from sklearn.model_selection import train_test_split #, GridsearchCV\n",
    "from sklearn.neighbors import KNeighborsClassifier\n",
    "from sklearn.neural_network import MLPClassifier\n",
    "from sklearn.model_selection import cross_val_score\n",
    "from tqdm import tqdm # display progress of loops"
   ]
  },
  {
   "cell_type": "markdown",
   "id": "8b5d8592",
   "metadata": {},
   "source": [
    "### 2. Load data"
   ]
  },
  {
   "cell_type": "code",
   "execution_count": 3,
   "id": "c17d7acd",
   "metadata": {},
   "outputs": [
    {
     "data": {
      "text/html": [
       "<div>\n",
       "<style scoped>\n",
       "    .dataframe tbody tr th:only-of-type {\n",
       "        vertical-align: middle;\n",
       "    }\n",
       "\n",
       "    .dataframe tbody tr th {\n",
       "        vertical-align: top;\n",
       "    }\n",
       "\n",
       "    .dataframe thead th {\n",
       "        text-align: right;\n",
       "    }\n",
       "</style>\n",
       "<table border=\"1\" class=\"dataframe\">\n",
       "  <thead>\n",
       "    <tr style=\"text-align: right;\">\n",
       "      <th></th>\n",
       "      <th>Unnamed: 0</th>\n",
       "      <th>Solidity</th>\n",
       "      <th>Eccentricity</th>\n",
       "      <th>EquivDiameter</th>\n",
       "      <th>Extrema</th>\n",
       "      <th>FilledArea</th>\n",
       "      <th>Extent</th>\n",
       "      <th>Orientation</th>\n",
       "      <th>EulerNumber</th>\n",
       "      <th>BoundingBox1</th>\n",
       "      <th>...</th>\n",
       "      <th>ConvexHull4</th>\n",
       "      <th>MajorAxisLength</th>\n",
       "      <th>MinorAxisLength</th>\n",
       "      <th>Perimeter</th>\n",
       "      <th>ConvexArea</th>\n",
       "      <th>Centroid1</th>\n",
       "      <th>Centroid2</th>\n",
       "      <th>Area</th>\n",
       "      <th>raddi</th>\n",
       "      <th>microorganisms</th>\n",
       "    </tr>\n",
       "  </thead>\n",
       "  <tbody>\n",
       "    <tr>\n",
       "      <th>0</th>\n",
       "      <td>0</td>\n",
       "      <td>10.7</td>\n",
       "      <td>15.8</td>\n",
       "      <td>5.43</td>\n",
       "      <td>3.75</td>\n",
       "      <td>0.785</td>\n",
       "      <td>8.14</td>\n",
       "      <td>2.15</td>\n",
       "      <td>22.3</td>\n",
       "      <td>2.97</td>\n",
       "      <td>...</td>\n",
       "      <td>2.97</td>\n",
       "      <td>1.34</td>\n",
       "      <td>1.61</td>\n",
       "      <td>0.683</td>\n",
       "      <td>0.195</td>\n",
       "      <td>3.63</td>\n",
       "      <td>12.1</td>\n",
       "      <td>1.310</td>\n",
       "      <td>7.99</td>\n",
       "      <td>Spirogyra</td>\n",
       "    </tr>\n",
       "    <tr>\n",
       "      <th>1</th>\n",
       "      <td>1</td>\n",
       "      <td>5.6</td>\n",
       "      <td>18.3</td>\n",
       "      <td>4.14</td>\n",
       "      <td>6.16</td>\n",
       "      <td>0.364</td>\n",
       "      <td>3.51</td>\n",
       "      <td>18.60</td>\n",
       "      <td>22.5</td>\n",
       "      <td>5.41</td>\n",
       "      <td>...</td>\n",
       "      <td>5.47</td>\n",
       "      <td>1.52</td>\n",
       "      <td>1.52</td>\n",
       "      <td>1.010</td>\n",
       "      <td>0.215</td>\n",
       "      <td>6.01</td>\n",
       "      <td>20.6</td>\n",
       "      <td>0.765</td>\n",
       "      <td>7.99</td>\n",
       "      <td>Spirogyra</td>\n",
       "    </tr>\n",
       "  </tbody>\n",
       "</table>\n",
       "<p>2 rows × 26 columns</p>\n",
       "</div>"
      ],
      "text/plain": [
       "   Unnamed: 0  Solidity  Eccentricity  EquivDiameter  Extrema  FilledArea  \\\n",
       "0           0      10.7          15.8           5.43     3.75       0.785   \n",
       "1           1       5.6          18.3           4.14     6.16       0.364   \n",
       "\n",
       "   Extent  Orientation  EulerNumber  BoundingBox1  ...  ConvexHull4  \\\n",
       "0    8.14         2.15         22.3          2.97  ...         2.97   \n",
       "1    3.51        18.60         22.5          5.41  ...         5.47   \n",
       "\n",
       "   MajorAxisLength  MinorAxisLength  Perimeter  ConvexArea  Centroid1  \\\n",
       "0             1.34             1.61      0.683       0.195       3.63   \n",
       "1             1.52             1.52      1.010       0.215       6.01   \n",
       "\n",
       "   Centroid2   Area  raddi  microorganisms  \n",
       "0       12.1  1.310   7.99       Spirogyra  \n",
       "1       20.6  0.765   7.99       Spirogyra  \n",
       "\n",
       "[2 rows x 26 columns]"
      ]
     },
     "execution_count": 3,
     "metadata": {},
     "output_type": "execute_result"
    }
   ],
   "source": [
    "data = pd.read_csv(\"F:/microbes.csv\")\n",
    "data.head(2)"
   ]
  },
  {
   "cell_type": "markdown",
   "id": "4945f6ee",
   "metadata": {},
   "source": [
    "### 3. Exploratory Data Analysis (EDA)"
   ]
  },
  {
   "cell_type": "code",
   "execution_count": 12,
   "id": "76ce51ad",
   "metadata": {},
   "outputs": [
    {
     "name": "stdout",
     "output_type": "stream",
     "text": [
      "Row count is: 30527\n",
      "Column count is: 26\n"
     ]
    }
   ],
   "source": [
    "# Let's get the number of rows and columns in data\n",
    "row_count = data.shape[0]\n",
    "column_count = data.shape[1]\n",
    "print('Row count is:', row_count)\n",
    "print ('Column count is:', column_count)"
   ]
  },
  {
   "cell_type": "code",
   "execution_count": 13,
   "id": "e4bfb738",
   "metadata": {},
   "outputs": [
    {
     "name": "stdout",
     "output_type": "stream",
     "text": [
      "<class 'pandas.core.frame.DataFrame'>\n",
      "RangeIndex: 30527 entries, 0 to 30526\n",
      "Data columns (total 26 columns):\n",
      " #   Column           Non-Null Count  Dtype  \n",
      "---  ------           --------------  -----  \n",
      " 0   Unnamed: 0       30527 non-null  int64  \n",
      " 1   Solidity         30527 non-null  float64\n",
      " 2   Eccentricity     30527 non-null  float64\n",
      " 3   EquivDiameter    30527 non-null  float64\n",
      " 4   Extrema          30527 non-null  float64\n",
      " 5   FilledArea       30527 non-null  float64\n",
      " 6   Extent           30527 non-null  float64\n",
      " 7   Orientation      30527 non-null  float64\n",
      " 8   EulerNumber      30527 non-null  float64\n",
      " 9   BoundingBox1     30527 non-null  float64\n",
      " 10  BoundingBox2     30527 non-null  float64\n",
      " 11  BoundingBox3     30527 non-null  float64\n",
      " 12  BoundingBox4     30527 non-null  float64\n",
      " 13  ConvexHull1      30527 non-null  float64\n",
      " 14  ConvexHull2      30527 non-null  float64\n",
      " 15  ConvexHull3      30527 non-null  float64\n",
      " 16  ConvexHull4      30527 non-null  float64\n",
      " 17  MajorAxisLength  30527 non-null  float64\n",
      " 18  MinorAxisLength  30527 non-null  float64\n",
      " 19  Perimeter        30527 non-null  float64\n",
      " 20  ConvexArea       30527 non-null  float64\n",
      " 21  Centroid1        30527 non-null  float64\n",
      " 22  Centroid2        30527 non-null  float64\n",
      " 23  Area             30527 non-null  float64\n",
      " 24  raddi            30527 non-null  float64\n",
      " 25  microorganisms   30527 non-null  object \n",
      "dtypes: float64(24), int64(1), object(1)\n",
      "memory usage: 6.1+ MB\n"
     ]
    }
   ],
   "source": [
    "# Basic information of data including the null value\n",
    "data.info()"
   ]
  },
  {
   "cell_type": "markdown",
   "id": "5f45f96d",
   "metadata": {},
   "source": [
    "Looks like there is one column that is labels as unnamed."
   ]
  },
  {
   "cell_type": "code",
   "execution_count": 21,
   "id": "312676c0",
   "metadata": {},
   "outputs": [
    {
     "data": {
      "text/plain": [
       "Index(['Unnamed: 0', 'Solidity', 'Eccentricity', 'EquivDiameter', 'Extrema',\n",
       "       'FilledArea', 'Extent', 'Orientation', 'EulerNumber', 'BoundingBox1',\n",
       "       'BoundingBox2', 'BoundingBox3', 'BoundingBox4', 'ConvexHull1',\n",
       "       'ConvexHull2', 'ConvexHull3', 'ConvexHull4', 'MajorAxisLength',\n",
       "       'MinorAxisLength', 'Perimeter', 'ConvexArea', 'Centroid1', 'Centroid2',\n",
       "       'Area', 'raddi', 'microorganisms'],\n",
       "      dtype='object')"
      ]
     },
     "execution_count": 21,
     "metadata": {},
     "output_type": "execute_result"
    }
   ],
   "source": [
    "data.columns"
   ]
  },
  {
   "cell_type": "code",
   "execution_count": 24,
   "id": "6c2920b7",
   "metadata": {},
   "outputs": [
    {
     "data": {
      "text/plain": [
       "0    0\n",
       "1    1\n",
       "2    2\n",
       "3    3\n",
       "4    4\n",
       "Name: Unnamed: 0, dtype: int64"
      ]
     },
     "execution_count": 24,
     "metadata": {},
     "output_type": "execute_result"
    }
   ],
   "source": [
    "data['Unnamed: 0'].head()"
   ]
  },
  {
   "cell_type": "markdown",
   "id": "e5c1ba22",
   "metadata": {},
   "source": [
    "##### Let's remove this form the data"
   ]
  },
  {
   "cell_type": "code",
   "execution_count": 26,
   "id": "7e93aeaf",
   "metadata": {},
   "outputs": [
    {
     "data": {
      "text/html": [
       "<div>\n",
       "<style scoped>\n",
       "    .dataframe tbody tr th:only-of-type {\n",
       "        vertical-align: middle;\n",
       "    }\n",
       "\n",
       "    .dataframe tbody tr th {\n",
       "        vertical-align: top;\n",
       "    }\n",
       "\n",
       "    .dataframe thead th {\n",
       "        text-align: right;\n",
       "    }\n",
       "</style>\n",
       "<table border=\"1\" class=\"dataframe\">\n",
       "  <thead>\n",
       "    <tr style=\"text-align: right;\">\n",
       "      <th></th>\n",
       "      <th>Solidity</th>\n",
       "      <th>Eccentricity</th>\n",
       "      <th>EquivDiameter</th>\n",
       "      <th>Extrema</th>\n",
       "      <th>FilledArea</th>\n",
       "      <th>Extent</th>\n",
       "      <th>Orientation</th>\n",
       "      <th>EulerNumber</th>\n",
       "      <th>BoundingBox1</th>\n",
       "      <th>BoundingBox2</th>\n",
       "      <th>...</th>\n",
       "      <th>ConvexHull4</th>\n",
       "      <th>MajorAxisLength</th>\n",
       "      <th>MinorAxisLength</th>\n",
       "      <th>Perimeter</th>\n",
       "      <th>ConvexArea</th>\n",
       "      <th>Centroid1</th>\n",
       "      <th>Centroid2</th>\n",
       "      <th>Area</th>\n",
       "      <th>raddi</th>\n",
       "      <th>microorganisms</th>\n",
       "    </tr>\n",
       "  </thead>\n",
       "  <tbody>\n",
       "    <tr>\n",
       "      <th>0</th>\n",
       "      <td>10.7</td>\n",
       "      <td>15.8</td>\n",
       "      <td>5.43</td>\n",
       "      <td>3.75</td>\n",
       "      <td>0.785</td>\n",
       "      <td>8.14</td>\n",
       "      <td>2.15</td>\n",
       "      <td>22.3</td>\n",
       "      <td>2.97</td>\n",
       "      <td>10.9</td>\n",
       "      <td>...</td>\n",
       "      <td>2.97</td>\n",
       "      <td>1.34</td>\n",
       "      <td>1.61</td>\n",
       "      <td>0.683</td>\n",
       "      <td>0.195</td>\n",
       "      <td>3.63</td>\n",
       "      <td>12.1</td>\n",
       "      <td>1.310</td>\n",
       "      <td>7.99</td>\n",
       "      <td>Spirogyra</td>\n",
       "    </tr>\n",
       "    <tr>\n",
       "      <th>1</th>\n",
       "      <td>5.6</td>\n",
       "      <td>18.3</td>\n",
       "      <td>4.14</td>\n",
       "      <td>6.16</td>\n",
       "      <td>0.364</td>\n",
       "      <td>3.51</td>\n",
       "      <td>18.60</td>\n",
       "      <td>22.5</td>\n",
       "      <td>5.41</td>\n",
       "      <td>19.2</td>\n",
       "      <td>...</td>\n",
       "      <td>5.47</td>\n",
       "      <td>1.52</td>\n",
       "      <td>1.52</td>\n",
       "      <td>1.010</td>\n",
       "      <td>0.215</td>\n",
       "      <td>6.01</td>\n",
       "      <td>20.6</td>\n",
       "      <td>0.765</td>\n",
       "      <td>7.99</td>\n",
       "      <td>Spirogyra</td>\n",
       "    </tr>\n",
       "  </tbody>\n",
       "</table>\n",
       "<p>2 rows × 25 columns</p>\n",
       "</div>"
      ],
      "text/plain": [
       "   Solidity  Eccentricity  EquivDiameter  Extrema  FilledArea  Extent  \\\n",
       "0      10.7          15.8           5.43     3.75       0.785    8.14   \n",
       "1       5.6          18.3           4.14     6.16       0.364    3.51   \n",
       "\n",
       "   Orientation  EulerNumber  BoundingBox1  BoundingBox2  ...  ConvexHull4  \\\n",
       "0         2.15         22.3          2.97          10.9  ...         2.97   \n",
       "1        18.60         22.5          5.41          19.2  ...         5.47   \n",
       "\n",
       "   MajorAxisLength  MinorAxisLength  Perimeter  ConvexArea  Centroid1  \\\n",
       "0             1.34             1.61      0.683       0.195       3.63   \n",
       "1             1.52             1.52      1.010       0.215       6.01   \n",
       "\n",
       "   Centroid2   Area  raddi  microorganisms  \n",
       "0       12.1  1.310   7.99       Spirogyra  \n",
       "1       20.6  0.765   7.99       Spirogyra  \n",
       "\n",
       "[2 rows x 25 columns]"
      ]
     },
     "execution_count": 26,
     "metadata": {},
     "output_type": "execute_result"
    }
   ],
   "source": [
    "data = data.drop(['Unnamed: 0'], axis=1)\n",
    "data.head(2)"
   ]
  },
  {
   "cell_type": "markdown",
   "id": "701ac7f0",
   "metadata": {},
   "source": [
    "##### Confirm the removal of 'Unnammed: 0' column one more time"
   ]
  },
  {
   "cell_type": "code",
   "execution_count": 27,
   "id": "188c164f",
   "metadata": {},
   "outputs": [
    {
     "data": {
      "text/plain": [
       "Index(['Solidity', 'Eccentricity', 'EquivDiameter', 'Extrema', 'FilledArea',\n",
       "       'Extent', 'Orientation', 'EulerNumber', 'BoundingBox1', 'BoundingBox2',\n",
       "       'BoundingBox3', 'BoundingBox4', 'ConvexHull1', 'ConvexHull2',\n",
       "       'ConvexHull3', 'ConvexHull4', 'MajorAxisLength', 'MinorAxisLength',\n",
       "       'Perimeter', 'ConvexArea', 'Centroid1', 'Centroid2', 'Area', 'raddi',\n",
       "       'microorganisms'],\n",
       "      dtype='object')"
      ]
     },
     "execution_count": 27,
     "metadata": {},
     "output_type": "execute_result"
    }
   ],
   "source": [
    "data.columns"
   ]
  },
  {
   "cell_type": "markdown",
   "id": "604a1e45",
   "metadata": {},
   "source": [
    "##### Let's get the summary of statistics"
   ]
  },
  {
   "cell_type": "code",
   "execution_count": 28,
   "id": "833bfa2e",
   "metadata": {},
   "outputs": [
    {
     "data": {
      "text/html": [
       "<div>\n",
       "<style scoped>\n",
       "    .dataframe tbody tr th:only-of-type {\n",
       "        vertical-align: middle;\n",
       "    }\n",
       "\n",
       "    .dataframe tbody tr th {\n",
       "        vertical-align: top;\n",
       "    }\n",
       "\n",
       "    .dataframe thead th {\n",
       "        text-align: right;\n",
       "    }\n",
       "</style>\n",
       "<table border=\"1\" class=\"dataframe\">\n",
       "  <thead>\n",
       "    <tr style=\"text-align: right;\">\n",
       "      <th></th>\n",
       "      <th>Solidity</th>\n",
       "      <th>Eccentricity</th>\n",
       "      <th>EquivDiameter</th>\n",
       "      <th>Extrema</th>\n",
       "      <th>FilledArea</th>\n",
       "      <th>Extent</th>\n",
       "      <th>Orientation</th>\n",
       "      <th>EulerNumber</th>\n",
       "      <th>BoundingBox1</th>\n",
       "      <th>BoundingBox2</th>\n",
       "      <th>...</th>\n",
       "      <th>ConvexHull3</th>\n",
       "      <th>ConvexHull4</th>\n",
       "      <th>MajorAxisLength</th>\n",
       "      <th>MinorAxisLength</th>\n",
       "      <th>Perimeter</th>\n",
       "      <th>ConvexArea</th>\n",
       "      <th>Centroid1</th>\n",
       "      <th>Centroid2</th>\n",
       "      <th>Area</th>\n",
       "      <th>raddi</th>\n",
       "    </tr>\n",
       "  </thead>\n",
       "  <tbody>\n",
       "    <tr>\n",
       "      <th>count</th>\n",
       "      <td>30527.000000</td>\n",
       "      <td>30527.000000</td>\n",
       "      <td>30527.000000</td>\n",
       "      <td>30527.000000</td>\n",
       "      <td>30527.000000</td>\n",
       "      <td>30527.000000</td>\n",
       "      <td>30527.000000</td>\n",
       "      <td>30527.000000</td>\n",
       "      <td>30527.000000</td>\n",
       "      <td>30527.000000</td>\n",
       "      <td>...</td>\n",
       "      <td>30527.000000</td>\n",
       "      <td>30527.000000</td>\n",
       "      <td>30527.000000</td>\n",
       "      <td>30527.000000</td>\n",
       "      <td>30527.000000</td>\n",
       "      <td>30527.000000</td>\n",
       "      <td>30527.000000</td>\n",
       "      <td>30527.000000</td>\n",
       "      <td>30527.00000</td>\n",
       "      <td>30527.000000</td>\n",
       "    </tr>\n",
       "    <tr>\n",
       "      <th>mean</th>\n",
       "      <td>9.677744</td>\n",
       "      <td>19.466921</td>\n",
       "      <td>3.633348</td>\n",
       "      <td>11.871832</td>\n",
       "      <td>0.420022</td>\n",
       "      <td>5.840625</td>\n",
       "      <td>11.751004</td>\n",
       "      <td>22.380901</td>\n",
       "      <td>10.919027</td>\n",
       "      <td>10.399429</td>\n",
       "      <td>...</td>\n",
       "      <td>11.046482</td>\n",
       "      <td>11.021988</td>\n",
       "      <td>1.605159</td>\n",
       "      <td>1.014179</td>\n",
       "      <td>0.829416</td>\n",
       "      <td>0.254596</td>\n",
       "      <td>11.752783</td>\n",
       "      <td>11.554286</td>\n",
       "      <td>0.80278</td>\n",
       "      <td>5.214598</td>\n",
       "    </tr>\n",
       "    <tr>\n",
       "      <th>std</th>\n",
       "      <td>4.063437</td>\n",
       "      <td>3.479828</td>\n",
       "      <td>2.210851</td>\n",
       "      <td>6.045135</td>\n",
       "      <td>0.875091</td>\n",
       "      <td>3.250999</td>\n",
       "      <td>6.575319</td>\n",
       "      <td>0.962906</td>\n",
       "      <td>6.093280</td>\n",
       "      <td>5.797144</td>\n",
       "      <td>...</td>\n",
       "      <td>6.089508</td>\n",
       "      <td>6.089467</td>\n",
       "      <td>1.662537</td>\n",
       "      <td>1.224326</td>\n",
       "      <td>1.152165</td>\n",
       "      <td>0.971035</td>\n",
       "      <td>6.029756</td>\n",
       "      <td>5.700637</td>\n",
       "      <td>1.17043</td>\n",
       "      <td>2.805199</td>\n",
       "    </tr>\n",
       "    <tr>\n",
       "      <th>min</th>\n",
       "      <td>0.000000</td>\n",
       "      <td>0.000000</td>\n",
       "      <td>0.000000</td>\n",
       "      <td>0.000000</td>\n",
       "      <td>0.000000</td>\n",
       "      <td>0.000000</td>\n",
       "      <td>0.000000</td>\n",
       "      <td>0.000000</td>\n",
       "      <td>0.000000</td>\n",
       "      <td>0.000000</td>\n",
       "      <td>...</td>\n",
       "      <td>0.000000</td>\n",
       "      <td>0.000000</td>\n",
       "      <td>0.000000</td>\n",
       "      <td>0.000000</td>\n",
       "      <td>0.000000</td>\n",
       "      <td>0.000000</td>\n",
       "      <td>0.000000</td>\n",
       "      <td>0.000000</td>\n",
       "      <td>0.00000</td>\n",
       "      <td>0.000000</td>\n",
       "    </tr>\n",
       "    <tr>\n",
       "      <th>25%</th>\n",
       "      <td>6.570000</td>\n",
       "      <td>17.300000</td>\n",
       "      <td>2.180000</td>\n",
       "      <td>6.790000</td>\n",
       "      <td>0.093700</td>\n",
       "      <td>3.280000</td>\n",
       "      <td>6.005000</td>\n",
       "      <td>22.300000</td>\n",
       "      <td>5.690000</td>\n",
       "      <td>5.730000</td>\n",
       "      <td>...</td>\n",
       "      <td>5.790000</td>\n",
       "      <td>5.755000</td>\n",
       "      <td>0.635000</td>\n",
       "      <td>0.421000</td>\n",
       "      <td>0.253000</td>\n",
       "      <td>0.034700</td>\n",
       "      <td>6.570000</td>\n",
       "      <td>7.110000</td>\n",
       "      <td>0.21800</td>\n",
       "      <td>3.080000</td>\n",
       "    </tr>\n",
       "    <tr>\n",
       "      <th>50%</th>\n",
       "      <td>9.350000</td>\n",
       "      <td>20.700000</td>\n",
       "      <td>3.380000</td>\n",
       "      <td>12.000000</td>\n",
       "      <td>0.229000</td>\n",
       "      <td>5.260000</td>\n",
       "      <td>12.100000</td>\n",
       "      <td>22.600000</td>\n",
       "      <td>10.900000</td>\n",
       "      <td>10.000000</td>\n",
       "      <td>...</td>\n",
       "      <td>11.000000</td>\n",
       "      <td>11.000000</td>\n",
       "      <td>1.160000</td>\n",
       "      <td>0.745000</td>\n",
       "      <td>0.518000</td>\n",
       "      <td>0.085700</td>\n",
       "      <td>12.100000</td>\n",
       "      <td>11.200000</td>\n",
       "      <td>0.51400</td>\n",
       "      <td>5.320000</td>\n",
       "    </tr>\n",
       "    <tr>\n",
       "      <th>75%</th>\n",
       "      <td>12.600000</td>\n",
       "      <td>22.200000</td>\n",
       "      <td>4.580000</td>\n",
       "      <td>17.200000</td>\n",
       "      <td>0.434500</td>\n",
       "      <td>7.850000</td>\n",
       "      <td>17.200000</td>\n",
       "      <td>22.900000</td>\n",
       "      <td>15.800000</td>\n",
       "      <td>14.900000</td>\n",
       "      <td>...</td>\n",
       "      <td>15.900000</td>\n",
       "      <td>15.900000</td>\n",
       "      <td>2.070000</td>\n",
       "      <td>1.220000</td>\n",
       "      <td>0.968000</td>\n",
       "      <td>0.200000</td>\n",
       "      <td>16.900000</td>\n",
       "      <td>16.200000</td>\n",
       "      <td>0.93400</td>\n",
       "      <td>7.050000</td>\n",
       "    </tr>\n",
       "    <tr>\n",
       "      <th>max</th>\n",
       "      <td>23.000000</td>\n",
       "      <td>23.000000</td>\n",
       "      <td>23.000000</td>\n",
       "      <td>23.000000</td>\n",
       "      <td>23.000000</td>\n",
       "      <td>23.000000</td>\n",
       "      <td>23.000000</td>\n",
       "      <td>23.000000</td>\n",
       "      <td>23.000000</td>\n",
       "      <td>23.000000</td>\n",
       "      <td>...</td>\n",
       "      <td>23.000000</td>\n",
       "      <td>23.000000</td>\n",
       "      <td>23.000000</td>\n",
       "      <td>23.000000</td>\n",
       "      <td>23.000000</td>\n",
       "      <td>23.000000</td>\n",
       "      <td>23.000000</td>\n",
       "      <td>23.000000</td>\n",
       "      <td>23.00000</td>\n",
       "      <td>23.000000</td>\n",
       "    </tr>\n",
       "  </tbody>\n",
       "</table>\n",
       "<p>8 rows × 24 columns</p>\n",
       "</div>"
      ],
      "text/plain": [
       "           Solidity  Eccentricity  EquivDiameter       Extrema    FilledArea  \\\n",
       "count  30527.000000  30527.000000   30527.000000  30527.000000  30527.000000   \n",
       "mean       9.677744     19.466921       3.633348     11.871832      0.420022   \n",
       "std        4.063437      3.479828       2.210851      6.045135      0.875091   \n",
       "min        0.000000      0.000000       0.000000      0.000000      0.000000   \n",
       "25%        6.570000     17.300000       2.180000      6.790000      0.093700   \n",
       "50%        9.350000     20.700000       3.380000     12.000000      0.229000   \n",
       "75%       12.600000     22.200000       4.580000     17.200000      0.434500   \n",
       "max       23.000000     23.000000      23.000000     23.000000     23.000000   \n",
       "\n",
       "             Extent   Orientation   EulerNumber  BoundingBox1  BoundingBox2  \\\n",
       "count  30527.000000  30527.000000  30527.000000  30527.000000  30527.000000   \n",
       "mean       5.840625     11.751004     22.380901     10.919027     10.399429   \n",
       "std        3.250999      6.575319      0.962906      6.093280      5.797144   \n",
       "min        0.000000      0.000000      0.000000      0.000000      0.000000   \n",
       "25%        3.280000      6.005000     22.300000      5.690000      5.730000   \n",
       "50%        5.260000     12.100000     22.600000     10.900000     10.000000   \n",
       "75%        7.850000     17.200000     22.900000     15.800000     14.900000   \n",
       "max       23.000000     23.000000     23.000000     23.000000     23.000000   \n",
       "\n",
       "       ...   ConvexHull3   ConvexHull4  MajorAxisLength  MinorAxisLength  \\\n",
       "count  ...  30527.000000  30527.000000     30527.000000     30527.000000   \n",
       "mean   ...     11.046482     11.021988         1.605159         1.014179   \n",
       "std    ...      6.089508      6.089467         1.662537         1.224326   \n",
       "min    ...      0.000000      0.000000         0.000000         0.000000   \n",
       "25%    ...      5.790000      5.755000         0.635000         0.421000   \n",
       "50%    ...     11.000000     11.000000         1.160000         0.745000   \n",
       "75%    ...     15.900000     15.900000         2.070000         1.220000   \n",
       "max    ...     23.000000     23.000000        23.000000        23.000000   \n",
       "\n",
       "          Perimeter    ConvexArea     Centroid1     Centroid2         Area  \\\n",
       "count  30527.000000  30527.000000  30527.000000  30527.000000  30527.00000   \n",
       "mean       0.829416      0.254596     11.752783     11.554286      0.80278   \n",
       "std        1.152165      0.971035      6.029756      5.700637      1.17043   \n",
       "min        0.000000      0.000000      0.000000      0.000000      0.00000   \n",
       "25%        0.253000      0.034700      6.570000      7.110000      0.21800   \n",
       "50%        0.518000      0.085700     12.100000     11.200000      0.51400   \n",
       "75%        0.968000      0.200000     16.900000     16.200000      0.93400   \n",
       "max       23.000000     23.000000     23.000000     23.000000     23.00000   \n",
       "\n",
       "              raddi  \n",
       "count  30527.000000  \n",
       "mean       5.214598  \n",
       "std        2.805199  \n",
       "min        0.000000  \n",
       "25%        3.080000  \n",
       "50%        5.320000  \n",
       "75%        7.050000  \n",
       "max       23.000000  \n",
       "\n",
       "[8 rows x 24 columns]"
      ]
     },
     "execution_count": 28,
     "metadata": {},
     "output_type": "execute_result"
    }
   ],
   "source": [
    "data.describe()"
   ]
  },
  {
   "cell_type": "markdown",
   "id": "feceacf8",
   "metadata": {},
   "source": [
    "#### Let's go through the stats by dividing it into two halves"
   ]
  },
  {
   "cell_type": "code",
   "execution_count": 29,
   "id": "f3bf0cb7",
   "metadata": {},
   "outputs": [
    {
     "data": {
      "text/html": [
       "<div>\n",
       "<style scoped>\n",
       "    .dataframe tbody tr th:only-of-type {\n",
       "        vertical-align: middle;\n",
       "    }\n",
       "\n",
       "    .dataframe tbody tr th {\n",
       "        vertical-align: top;\n",
       "    }\n",
       "\n",
       "    .dataframe thead th {\n",
       "        text-align: right;\n",
       "    }\n",
       "</style>\n",
       "<table border=\"1\" class=\"dataframe\">\n",
       "  <thead>\n",
       "    <tr style=\"text-align: right;\">\n",
       "      <th></th>\n",
       "      <th>Solidity</th>\n",
       "      <th>Eccentricity</th>\n",
       "      <th>EquivDiameter</th>\n",
       "      <th>Extrema</th>\n",
       "      <th>FilledArea</th>\n",
       "      <th>Extent</th>\n",
       "      <th>Orientation</th>\n",
       "      <th>EulerNumber</th>\n",
       "      <th>BoundingBox1</th>\n",
       "      <th>BoundingBox2</th>\n",
       "      <th>BoundingBox3</th>\n",
       "      <th>BoundingBox4</th>\n",
       "    </tr>\n",
       "  </thead>\n",
       "  <tbody>\n",
       "    <tr>\n",
       "      <th>count</th>\n",
       "      <td>30527.000000</td>\n",
       "      <td>30527.000000</td>\n",
       "      <td>30527.000000</td>\n",
       "      <td>30527.000000</td>\n",
       "      <td>30527.000000</td>\n",
       "      <td>30527.000000</td>\n",
       "      <td>30527.000000</td>\n",
       "      <td>30527.000000</td>\n",
       "      <td>30527.000000</td>\n",
       "      <td>30527.000000</td>\n",
       "      <td>30527.000000</td>\n",
       "      <td>30527.000000</td>\n",
       "    </tr>\n",
       "    <tr>\n",
       "      <th>mean</th>\n",
       "      <td>9.677744</td>\n",
       "      <td>19.466921</td>\n",
       "      <td>3.633348</td>\n",
       "      <td>11.871832</td>\n",
       "      <td>0.420022</td>\n",
       "      <td>5.840625</td>\n",
       "      <td>11.751004</td>\n",
       "      <td>22.380901</td>\n",
       "      <td>10.919027</td>\n",
       "      <td>10.399429</td>\n",
       "      <td>2.085481</td>\n",
       "      <td>2.640499</td>\n",
       "    </tr>\n",
       "    <tr>\n",
       "      <th>std</th>\n",
       "      <td>4.063437</td>\n",
       "      <td>3.479828</td>\n",
       "      <td>2.210851</td>\n",
       "      <td>6.045135</td>\n",
       "      <td>0.875091</td>\n",
       "      <td>3.250999</td>\n",
       "      <td>6.575319</td>\n",
       "      <td>0.962906</td>\n",
       "      <td>6.093280</td>\n",
       "      <td>5.797144</td>\n",
       "      <td>2.166312</td>\n",
       "      <td>2.488448</td>\n",
       "    </tr>\n",
       "    <tr>\n",
       "      <th>min</th>\n",
       "      <td>0.000000</td>\n",
       "      <td>0.000000</td>\n",
       "      <td>0.000000</td>\n",
       "      <td>0.000000</td>\n",
       "      <td>0.000000</td>\n",
       "      <td>0.000000</td>\n",
       "      <td>0.000000</td>\n",
       "      <td>0.000000</td>\n",
       "      <td>0.000000</td>\n",
       "      <td>0.000000</td>\n",
       "      <td>0.000000</td>\n",
       "      <td>0.000000</td>\n",
       "    </tr>\n",
       "    <tr>\n",
       "      <th>25%</th>\n",
       "      <td>6.570000</td>\n",
       "      <td>17.300000</td>\n",
       "      <td>2.180000</td>\n",
       "      <td>6.790000</td>\n",
       "      <td>0.093700</td>\n",
       "      <td>3.280000</td>\n",
       "      <td>6.005000</td>\n",
       "      <td>22.300000</td>\n",
       "      <td>5.690000</td>\n",
       "      <td>5.730000</td>\n",
       "      <td>0.849000</td>\n",
       "      <td>1.150000</td>\n",
       "    </tr>\n",
       "    <tr>\n",
       "      <th>50%</th>\n",
       "      <td>9.350000</td>\n",
       "      <td>20.700000</td>\n",
       "      <td>3.380000</td>\n",
       "      <td>12.000000</td>\n",
       "      <td>0.229000</td>\n",
       "      <td>5.260000</td>\n",
       "      <td>12.100000</td>\n",
       "      <td>22.600000</td>\n",
       "      <td>10.900000</td>\n",
       "      <td>10.000000</td>\n",
       "      <td>1.500000</td>\n",
       "      <td>1.940000</td>\n",
       "    </tr>\n",
       "    <tr>\n",
       "      <th>75%</th>\n",
       "      <td>12.600000</td>\n",
       "      <td>22.200000</td>\n",
       "      <td>4.580000</td>\n",
       "      <td>17.200000</td>\n",
       "      <td>0.434500</td>\n",
       "      <td>7.850000</td>\n",
       "      <td>17.200000</td>\n",
       "      <td>22.900000</td>\n",
       "      <td>15.800000</td>\n",
       "      <td>14.900000</td>\n",
       "      <td>2.660000</td>\n",
       "      <td>3.380000</td>\n",
       "    </tr>\n",
       "    <tr>\n",
       "      <th>max</th>\n",
       "      <td>23.000000</td>\n",
       "      <td>23.000000</td>\n",
       "      <td>23.000000</td>\n",
       "      <td>23.000000</td>\n",
       "      <td>23.000000</td>\n",
       "      <td>23.000000</td>\n",
       "      <td>23.000000</td>\n",
       "      <td>23.000000</td>\n",
       "      <td>23.000000</td>\n",
       "      <td>23.000000</td>\n",
       "      <td>23.000000</td>\n",
       "      <td>23.000000</td>\n",
       "    </tr>\n",
       "  </tbody>\n",
       "</table>\n",
       "</div>"
      ],
      "text/plain": [
       "           Solidity  Eccentricity  EquivDiameter       Extrema    FilledArea  \\\n",
       "count  30527.000000  30527.000000   30527.000000  30527.000000  30527.000000   \n",
       "mean       9.677744     19.466921       3.633348     11.871832      0.420022   \n",
       "std        4.063437      3.479828       2.210851      6.045135      0.875091   \n",
       "min        0.000000      0.000000       0.000000      0.000000      0.000000   \n",
       "25%        6.570000     17.300000       2.180000      6.790000      0.093700   \n",
       "50%        9.350000     20.700000       3.380000     12.000000      0.229000   \n",
       "75%       12.600000     22.200000       4.580000     17.200000      0.434500   \n",
       "max       23.000000     23.000000      23.000000     23.000000     23.000000   \n",
       "\n",
       "             Extent   Orientation   EulerNumber  BoundingBox1  BoundingBox2  \\\n",
       "count  30527.000000  30527.000000  30527.000000  30527.000000  30527.000000   \n",
       "mean       5.840625     11.751004     22.380901     10.919027     10.399429   \n",
       "std        3.250999      6.575319      0.962906      6.093280      5.797144   \n",
       "min        0.000000      0.000000      0.000000      0.000000      0.000000   \n",
       "25%        3.280000      6.005000     22.300000      5.690000      5.730000   \n",
       "50%        5.260000     12.100000     22.600000     10.900000     10.000000   \n",
       "75%        7.850000     17.200000     22.900000     15.800000     14.900000   \n",
       "max       23.000000     23.000000     23.000000     23.000000     23.000000   \n",
       "\n",
       "       BoundingBox3  BoundingBox4  \n",
       "count  30527.000000  30527.000000  \n",
       "mean       2.085481      2.640499  \n",
       "std        2.166312      2.488448  \n",
       "min        0.000000      0.000000  \n",
       "25%        0.849000      1.150000  \n",
       "50%        1.500000      1.940000  \n",
       "75%        2.660000      3.380000  \n",
       "max       23.000000     23.000000  "
      ]
     },
     "execution_count": 29,
     "metadata": {},
     "output_type": "execute_result"
    }
   ],
   "source": [
    "data.iloc[:, :12].describe()"
   ]
  },
  {
   "cell_type": "code",
   "execution_count": 30,
   "id": "9fda9e74",
   "metadata": {},
   "outputs": [
    {
     "data": {
      "text/html": [
       "<div>\n",
       "<style scoped>\n",
       "    .dataframe tbody tr th:only-of-type {\n",
       "        vertical-align: middle;\n",
       "    }\n",
       "\n",
       "    .dataframe tbody tr th {\n",
       "        vertical-align: top;\n",
       "    }\n",
       "\n",
       "    .dataframe thead th {\n",
       "        text-align: right;\n",
       "    }\n",
       "</style>\n",
       "<table border=\"1\" class=\"dataframe\">\n",
       "  <thead>\n",
       "    <tr style=\"text-align: right;\">\n",
       "      <th></th>\n",
       "      <th>ConvexHull1</th>\n",
       "      <th>ConvexHull2</th>\n",
       "      <th>ConvexHull3</th>\n",
       "      <th>ConvexHull4</th>\n",
       "      <th>MajorAxisLength</th>\n",
       "      <th>MinorAxisLength</th>\n",
       "      <th>Perimeter</th>\n",
       "      <th>ConvexArea</th>\n",
       "      <th>Centroid1</th>\n",
       "      <th>Centroid2</th>\n",
       "      <th>Area</th>\n",
       "      <th>raddi</th>\n",
       "    </tr>\n",
       "  </thead>\n",
       "  <tbody>\n",
       "    <tr>\n",
       "      <th>count</th>\n",
       "      <td>30527.000000</td>\n",
       "      <td>30527.000000</td>\n",
       "      <td>30527.000000</td>\n",
       "      <td>30527.000000</td>\n",
       "      <td>30527.000000</td>\n",
       "      <td>30527.000000</td>\n",
       "      <td>30527.000000</td>\n",
       "      <td>30527.000000</td>\n",
       "      <td>30527.000000</td>\n",
       "      <td>30527.000000</td>\n",
       "      <td>30527.00000</td>\n",
       "      <td>30527.000000</td>\n",
       "    </tr>\n",
       "    <tr>\n",
       "      <th>mean</th>\n",
       "      <td>11.113760</td>\n",
       "      <td>11.113760</td>\n",
       "      <td>11.046482</td>\n",
       "      <td>11.021988</td>\n",
       "      <td>1.605159</td>\n",
       "      <td>1.014179</td>\n",
       "      <td>0.829416</td>\n",
       "      <td>0.254596</td>\n",
       "      <td>11.752783</td>\n",
       "      <td>11.554286</td>\n",
       "      <td>0.80278</td>\n",
       "      <td>5.214598</td>\n",
       "    </tr>\n",
       "    <tr>\n",
       "      <th>std</th>\n",
       "      <td>6.033357</td>\n",
       "      <td>6.033357</td>\n",
       "      <td>6.089508</td>\n",
       "      <td>6.089467</td>\n",
       "      <td>1.662537</td>\n",
       "      <td>1.224326</td>\n",
       "      <td>1.152165</td>\n",
       "      <td>0.971035</td>\n",
       "      <td>6.029756</td>\n",
       "      <td>5.700637</td>\n",
       "      <td>1.17043</td>\n",
       "      <td>2.805199</td>\n",
       "    </tr>\n",
       "    <tr>\n",
       "      <th>min</th>\n",
       "      <td>0.000000</td>\n",
       "      <td>0.000000</td>\n",
       "      <td>0.000000</td>\n",
       "      <td>0.000000</td>\n",
       "      <td>0.000000</td>\n",
       "      <td>0.000000</td>\n",
       "      <td>0.000000</td>\n",
       "      <td>0.000000</td>\n",
       "      <td>0.000000</td>\n",
       "      <td>0.000000</td>\n",
       "      <td>0.00000</td>\n",
       "      <td>0.000000</td>\n",
       "    </tr>\n",
       "    <tr>\n",
       "      <th>25%</th>\n",
       "      <td>5.980000</td>\n",
       "      <td>5.980000</td>\n",
       "      <td>5.790000</td>\n",
       "      <td>5.755000</td>\n",
       "      <td>0.635000</td>\n",
       "      <td>0.421000</td>\n",
       "      <td>0.253000</td>\n",
       "      <td>0.034700</td>\n",
       "      <td>6.570000</td>\n",
       "      <td>7.110000</td>\n",
       "      <td>0.21800</td>\n",
       "      <td>3.080000</td>\n",
       "    </tr>\n",
       "    <tr>\n",
       "      <th>50%</th>\n",
       "      <td>11.100000</td>\n",
       "      <td>11.100000</td>\n",
       "      <td>11.000000</td>\n",
       "      <td>11.000000</td>\n",
       "      <td>1.160000</td>\n",
       "      <td>0.745000</td>\n",
       "      <td>0.518000</td>\n",
       "      <td>0.085700</td>\n",
       "      <td>12.100000</td>\n",
       "      <td>11.200000</td>\n",
       "      <td>0.51400</td>\n",
       "      <td>5.320000</td>\n",
       "    </tr>\n",
       "    <tr>\n",
       "      <th>75%</th>\n",
       "      <td>16.000000</td>\n",
       "      <td>16.000000</td>\n",
       "      <td>15.900000</td>\n",
       "      <td>15.900000</td>\n",
       "      <td>2.070000</td>\n",
       "      <td>1.220000</td>\n",
       "      <td>0.968000</td>\n",
       "      <td>0.200000</td>\n",
       "      <td>16.900000</td>\n",
       "      <td>16.200000</td>\n",
       "      <td>0.93400</td>\n",
       "      <td>7.050000</td>\n",
       "    </tr>\n",
       "    <tr>\n",
       "      <th>max</th>\n",
       "      <td>23.000000</td>\n",
       "      <td>23.000000</td>\n",
       "      <td>23.000000</td>\n",
       "      <td>23.000000</td>\n",
       "      <td>23.000000</td>\n",
       "      <td>23.000000</td>\n",
       "      <td>23.000000</td>\n",
       "      <td>23.000000</td>\n",
       "      <td>23.000000</td>\n",
       "      <td>23.000000</td>\n",
       "      <td>23.00000</td>\n",
       "      <td>23.000000</td>\n",
       "    </tr>\n",
       "  </tbody>\n",
       "</table>\n",
       "</div>"
      ],
      "text/plain": [
       "        ConvexHull1   ConvexHull2   ConvexHull3   ConvexHull4  \\\n",
       "count  30527.000000  30527.000000  30527.000000  30527.000000   \n",
       "mean      11.113760     11.113760     11.046482     11.021988   \n",
       "std        6.033357      6.033357      6.089508      6.089467   \n",
       "min        0.000000      0.000000      0.000000      0.000000   \n",
       "25%        5.980000      5.980000      5.790000      5.755000   \n",
       "50%       11.100000     11.100000     11.000000     11.000000   \n",
       "75%       16.000000     16.000000     15.900000     15.900000   \n",
       "max       23.000000     23.000000     23.000000     23.000000   \n",
       "\n",
       "       MajorAxisLength  MinorAxisLength     Perimeter    ConvexArea  \\\n",
       "count     30527.000000     30527.000000  30527.000000  30527.000000   \n",
       "mean          1.605159         1.014179      0.829416      0.254596   \n",
       "std           1.662537         1.224326      1.152165      0.971035   \n",
       "min           0.000000         0.000000      0.000000      0.000000   \n",
       "25%           0.635000         0.421000      0.253000      0.034700   \n",
       "50%           1.160000         0.745000      0.518000      0.085700   \n",
       "75%           2.070000         1.220000      0.968000      0.200000   \n",
       "max          23.000000        23.000000     23.000000     23.000000   \n",
       "\n",
       "          Centroid1     Centroid2         Area         raddi  \n",
       "count  30527.000000  30527.000000  30527.00000  30527.000000  \n",
       "mean      11.752783     11.554286      0.80278      5.214598  \n",
       "std        6.029756      5.700637      1.17043      2.805199  \n",
       "min        0.000000      0.000000      0.00000      0.000000  \n",
       "25%        6.570000      7.110000      0.21800      3.080000  \n",
       "50%       12.100000     11.200000      0.51400      5.320000  \n",
       "75%       16.900000     16.200000      0.93400      7.050000  \n",
       "max       23.000000     23.000000     23.00000     23.000000  "
      ]
     },
     "execution_count": 30,
     "metadata": {},
     "output_type": "execute_result"
    }
   ],
   "source": [
    "data.iloc[:, 12:].describe()"
   ]
  },
  {
   "cell_type": "markdown",
   "id": "df1e7a8b",
   "metadata": {},
   "source": [
    "### 4. Data visualization"
   ]
  },
  {
   "cell_type": "code",
   "execution_count": 13,
   "id": "1386f11e",
   "metadata": {},
   "outputs": [
    {
     "data": {
      "image/png": "[encoded data removed]",
      "text/plain": [
       "<Figure size 432x288 with 1 Axes>"
      ]
     },
     "metadata": {
      "needs_background": "light"
     },
     "output_type": "display_data"
    },
    {
     "data": {
      "image/png": "[encoded data removed]",
      "text/plain": [
       "<Figure size 432x288 with 1 Axes>"
      ]
     },
     "metadata": {
      "needs_background": "light"
     },
     "output_type": "display_data"
    },
    {
     "data": {
      "image/png": "[encoded data removed]",
      "text/plain": [
       "<Figure size 432x288 with 1 Axes>"
      ]
     },
     "metadata": {
      "needs_background": "light"
     },
     "output_type": "display_data"
    },
    {
     "data": {
      "image/png": "[encoded data removed]",
      "text/plain": [
       "<Figure size 432x288 with 1 Axes>"
      ]
     },
     "metadata": {
      "needs_background": "light"
     },
     "output_type": "display_data"
    },
    {
     "data": {
      "image/png": "[encoded data removed]",
      "text/plain": [
       "<Figure size 432x288 with 1 Axes>"
      ]
     },
     "metadata": {
      "needs_background": "light"
     },
     "output_type": "display_data"
    },
    {
     "data": {
      "image/png": "[encoded data removed]",
      "text/plain": [
       "<Figure size 432x288 with 1 Axes>"
      ]
     },
     "metadata": {
      "needs_background": "light"
     },
     "output_type": "display_data"
    },
    {
     "data": {
      "image/png": "[encoded data removed]",
      "text/plain": [
       "<Figure size 432x288 with 1 Axes>"
      ]
     },
     "metadata": {
      "needs_background": "light"
     },
     "output_type": "display_data"
    },
    {
     "data": {
      "image/png": "[encoded data removed]",
      "text/plain": [
       "<Figure size 432x288 with 1 Axes>"
      ]
     },
     "metadata": {
      "needs_background": "light"
     },
     "output_type": "display_data"
    },
    {
     "data": {
      "image/png": "[encoded data removed]",
      "text/plain": [
       "<Figure size 432x288 with 1 Axes>"
      ]
     },
     "metadata": {
      "needs_background": "light"
     },
     "output_type": "display_data"
    },
    {
     "data": {
      "image/png": "[encoded data removed]",
      "text/plain": [
       "<Figure size 432x288 with 1 Axes>"
      ]
     },
     "metadata": {
      "needs_background": "light"
     },
     "output_type": "display_data"
    },
    {
     "data": {
      "image/png": "[encoded data removed]",
      "text/plain": [
       "<Figure size 432x288 with 1 Axes>"
      ]
     },
     "metadata": {
      "needs_background": "light"
     },
     "output_type": "display_data"
    },
    {
     "data": {
      "image/png": "[encoded data removed]",
      "text/plain": [
       "<Figure size 432x288 with 1 Axes>"
      ]
     },
     "metadata": {
      "needs_background": "light"
     },
     "output_type": "display_data"
    },
    {
     "data": {
      "image/png": "[encoded data removed]",
      "text/plain": [
       "<Figure size 432x288 with 1 Axes>"
      ]
     },
     "metadata": {
      "needs_background": "light"
     },
     "output_type": "display_data"
    },
    {
     "data": {
      "image/png": "[encoded data removed]",
      "text/plain": [
       "<Figure size 432x288 with 1 Axes>"
      ]
     },
     "metadata": {
      "needs_background": "light"
     },
     "output_type": "display_data"
    },
    {
     "data": {
      "image/png": "[encoded data removed]",
      "text/plain": [
       "<Figure size 432x288 with 1 Axes>"
      ]
     },
     "metadata": {
      "needs_background": "light"
     },
     "output_type": "display_data"
    },
    {
     "data": {
      "image/png": "[encoded data removed]",
      "text/plain": [
       "<Figure size 432x288 with 1 Axes>"
      ]
     },
     "metadata": {
      "needs_background": "light"
     },
     "output_type": "display_data"
    },
    {
     "data": {
      "image/png": "[encoded data removed]",
      "text/plain": [
       "<Figure size 432x288 with 1 Axes>"
      ]
     },
     "metadata": {
      "needs_background": "light"
     },
     "output_type": "display_data"
    },
    {
     "data": {
      "image/png": "[encoded data removed]",
      "text/plain": [
       "<Figure size 432x288 with 1 Axes>"
      ]
     },
     "metadata": {
      "needs_background": "light"
     },
     "output_type": "display_data"
    },
    {
     "data": {
      "image/png": "[encoded data removed]",
      "text/plain": [
       "<Figure size 432x288 with 1 Axes>"
      ]
     },
     "metadata": {
      "needs_background": "light"
     },
     "output_type": "display_data"
    },
    {
     "data": {
      "image/png": "[encoded data removed]",
      "text/plain": [
       "<Figure size 432x288 with 1 Axes>"
      ]
     },
     "metadata": {
      "needs_background": "light"
     },
     "output_type": "display_data"
    },
    {
     "data": {
      "image/png": "[encoded data removed]",
      "text/plain": [
       "<Figure size 432x288 with 1 Axes>"
      ]
     },
     "metadata": {
      "needs_background": "light"
     },
     "output_type": "display_data"
    },
    {
     "data": {
      "image/png": "[encoded data removed]",
      "text/plain": [
       "<Figure size 432x288 with 1 Axes>"
      ]
     },
     "metadata": {
      "needs_background": "light"
     },
     "output_type": "display_data"
    },
    {
     "data": {
      "image/png": "[encoded data removed]",
      "text/plain": [
       "<Figure size 432x288 with 1 Axes>"
      ]
     },
     "metadata": {
      "needs_background": "light"
     },
     "output_type": "display_data"
    },
    {
     "data": {
      "image/png": "[encoded data removed]",
      "text/plain": [
       "<Figure size 432x288 with 1 Axes>"
      ]
     },
     "metadata": {
      "needs_background": "light"
     },
     "output_type": "display_data"
    }
   ],
   "source": [
    "for col in data.columns[:-1]:\n",
    "    plt.hist(data[col])\n",
    "    plt.title(col)\n",
    "    plt.show()"
   ]
  },
  {
   "cell_type": "code",
   "execution_count": 44,
   "id": "cf295d5d",
   "metadata": {},
   "outputs": [],
   "source": [
    "# lets find unique elements of an array\n",
    "# split data into separate groups for better analysis (groupby())\n",
    "labels = data['microorganisms'].unique() \n",
    "label_counts = data.groupby(['microorganisms']).size()\n",
    "labels.sort()"
   ]
  },
  {
   "cell_type": "code",
   "execution_count": 47,
   "id": "5ecddc54",
   "metadata": {},
   "outputs": [
    {
     "data": {
      "image/png": "[encoded data removed]",
      "text/plain": [
       "<Figure size 432x288 with 1 Axes>"
      ]
     },
     "metadata": {
      "needs_background": "light"
     },
     "output_type": "display_data"
    }
   ],
   "source": [
    "#plot a bar plot\n",
    "plt.bar(labels, label_counts)\n",
    "plt.xticks(rotation=90)\n",
    "plt.title('Microbs')\n",
    "plt.show()"
   ]
  },
  {
   "cell_type": "markdown",
   "id": "ac3b42bd",
   "metadata": {},
   "source": [
    "### 5. Data Preprocessing"
   ]
  },
  {
   "cell_type": "markdown",
   "id": "7d8966b8",
   "metadata": {},
   "source": [
    "#### Normalize the data"
   ]
  },
  {
   "cell_type": "code",
   "execution_count": 66,
   "id": "33661452",
   "metadata": {},
   "outputs": [
    {
     "data": {
      "text/html": [
       "<div>\n",
       "<style scoped>\n",
       "    .dataframe tbody tr th:only-of-type {\n",
       "        vertical-align: middle;\n",
       "    }\n",
       "\n",
       "    .dataframe tbody tr th {\n",
       "        vertical-align: top;\n",
       "    }\n",
       "\n",
       "    .dataframe thead th {\n",
       "        text-align: right;\n",
       "    }\n",
       "</style>\n",
       "<table border=\"1\" class=\"dataframe\">\n",
       "  <thead>\n",
       "    <tr style=\"text-align: right;\">\n",
       "      <th></th>\n",
       "      <th>Solidity</th>\n",
       "      <th>Eccentricity</th>\n",
       "      <th>EquivDiameter</th>\n",
       "      <th>Extrema</th>\n",
       "      <th>FilledArea</th>\n",
       "      <th>Extent</th>\n",
       "      <th>Orientation</th>\n",
       "      <th>EulerNumber</th>\n",
       "      <th>BoundingBox1</th>\n",
       "      <th>BoundingBox2</th>\n",
       "      <th>...</th>\n",
       "      <th>ConvexHull4</th>\n",
       "      <th>MajorAxisLength</th>\n",
       "      <th>MinorAxisLength</th>\n",
       "      <th>Perimeter</th>\n",
       "      <th>ConvexArea</th>\n",
       "      <th>Centroid1</th>\n",
       "      <th>Centroid2</th>\n",
       "      <th>Area</th>\n",
       "      <th>raddi</th>\n",
       "      <th>microorganisms</th>\n",
       "    </tr>\n",
       "  </thead>\n",
       "  <tbody>\n",
       "    <tr>\n",
       "      <th>0</th>\n",
       "      <td>0.251578</td>\n",
       "      <td>-1.053782</td>\n",
       "      <td>0.812665</td>\n",
       "      <td>-1.343554</td>\n",
       "      <td>0.417081</td>\n",
       "      <td>0.707294</td>\n",
       "      <td>-1.460182</td>\n",
       "      <td>-0.084019</td>\n",
       "      <td>-1.304578</td>\n",
       "      <td>0.086349</td>\n",
       "      <td>...</td>\n",
       "      <td>-1.322303</td>\n",
       "      <td>-0.159493</td>\n",
       "      <td>0.48666</td>\n",
       "      <td>-0.127081</td>\n",
       "      <td>-0.061375</td>\n",
       "      <td>-1.347138</td>\n",
       "      <td>0.09573</td>\n",
       "      <td>0.433369</td>\n",
       "      <td>0.989394</td>\n",
       "      <td>Spirogyra</td>\n",
       "    </tr>\n",
       "    <tr>\n",
       "      <th>1</th>\n",
       "      <td>-1.003537</td>\n",
       "      <td>-0.335344</td>\n",
       "      <td>0.22917</td>\n",
       "      <td>-0.94488</td>\n",
       "      <td>-0.06402</td>\n",
       "      <td>-0.716907</td>\n",
       "      <td>1.041639</td>\n",
       "      <td>0.123689</td>\n",
       "      <td>-0.90413</td>\n",
       "      <td>1.518112</td>\n",
       "      <td>...</td>\n",
       "      <td>-0.911751</td>\n",
       "      <td>-0.051223</td>\n",
       "      <td>0.413149</td>\n",
       "      <td>0.156737</td>\n",
       "      <td>-0.040778</td>\n",
       "      <td>-0.952423</td>\n",
       "      <td>1.586816</td>\n",
       "      <td>-0.032279</td>\n",
       "      <td>0.989394</td>\n",
       "      <td>Spirogyra</td>\n",
       "    </tr>\n",
       "  </tbody>\n",
       "</table>\n",
       "<p>2 rows × 25 columns</p>\n",
       "</div>"
      ],
      "text/plain": [
       "   Solidity Eccentricity EquivDiameter   Extrema FilledArea    Extent  \\\n",
       "0  0.251578    -1.053782      0.812665 -1.343554   0.417081  0.707294   \n",
       "1 -1.003537    -0.335344       0.22917  -0.94488   -0.06402 -0.716907   \n",
       "\n",
       "  Orientation EulerNumber BoundingBox1 BoundingBox2  ... ConvexHull4  \\\n",
       "0   -1.460182   -0.084019    -1.304578     0.086349  ...   -1.322303   \n",
       "1    1.041639    0.123689     -0.90413     1.518112  ...   -0.911751   \n",
       "\n",
       "  MajorAxisLength MinorAxisLength Perimeter ConvexArea Centroid1 Centroid2  \\\n",
       "0       -0.159493         0.48666 -0.127081  -0.061375 -1.347138   0.09573   \n",
       "1       -0.051223        0.413149  0.156737  -0.040778 -0.952423  1.586816   \n",
       "\n",
       "       Area     raddi microorganisms  \n",
       "0  0.433369  0.989394      Spirogyra  \n",
       "1 -0.032279  0.989394      Spirogyra  \n",
       "\n",
       "[2 rows x 25 columns]"
      ]
     },
     "execution_count": 66,
     "metadata": {},
     "output_type": "execute_result"
    }
   ],
   "source": [
    "# rescaling the numeric attributes into a 0 to 1 range\n",
    "scaler = StandardScaler()\n",
    "sc_data = scaler.fit_transform(data.iloc[:,:-1])\n",
    "temp_y = data['microorganisms'].to_numpy()\n",
    "sc_data = pd.DataFrame(np.hstack((sc_data, temp_y.reshape(-1, 1))), columns=data.columns)\n",
    "sc_data.head(2)"
   ]
  },
  {
   "cell_type": "code",
   "execution_count": 67,
   "id": "6dec459c",
   "metadata": {},
   "outputs": [],
   "source": [
    "sc_data = sc_data[(np.abs(stats.zscore(data.iloc[:,:-1])) <3).all(axis=1)]"
   ]
  },
  {
   "cell_type": "code",
   "execution_count": 68,
   "id": "1d8b444d",
   "metadata": {},
   "outputs": [
    {
     "name": "stdout",
     "output_type": "stream",
     "text": [
      "<class 'pandas.core.frame.DataFrame'>\n",
      "Int64Index: 28772 entries, 0 to 30526\n",
      "Data columns (total 25 columns):\n",
      " #   Column           Non-Null Count  Dtype \n",
      "---  ------           --------------  ----- \n",
      " 0   Solidity         28772 non-null  object\n",
      " 1   Eccentricity     28772 non-null  object\n",
      " 2   EquivDiameter    28772 non-null  object\n",
      " 3   Extrema          28772 non-null  object\n",
      " 4   FilledArea       28772 non-null  object\n",
      " 5   Extent           28772 non-null  object\n",
      " 6   Orientation      28772 non-null  object\n",
      " 7   EulerNumber      28772 non-null  object\n",
      " 8   BoundingBox1     28772 non-null  object\n",
      " 9   BoundingBox2     28772 non-null  object\n",
      " 10  BoundingBox3     28772 non-null  object\n",
      " 11  BoundingBox4     28772 non-null  object\n",
      " 12  ConvexHull1      28772 non-null  object\n",
      " 13  ConvexHull2      28772 non-null  object\n",
      " 14  ConvexHull3      28772 non-null  object\n",
      " 15  ConvexHull4      28772 non-null  object\n",
      " 16  MajorAxisLength  28772 non-null  object\n",
      " 17  MinorAxisLength  28772 non-null  object\n",
      " 18  Perimeter        28772 non-null  object\n",
      " 19  ConvexArea       28772 non-null  object\n",
      " 20  Centroid1        28772 non-null  object\n",
      " 21  Centroid2        28772 non-null  object\n",
      " 22  Area             28772 non-null  object\n",
      " 23  raddi            28772 non-null  object\n",
      " 24  microorganisms   28772 non-null  object\n",
      "dtypes: object(25)\n",
      "memory usage: 5.7+ MB\n"
     ]
    }
   ],
   "source": [
    "sc_data.info()"
   ]
  },
  {
   "cell_type": "markdown",
   "id": "542a4ce5",
   "metadata": {},
   "source": [
    "#### Oversampling with SMOTE (Synthetic Minority Oversampling Technique)"
   ]
  },
  {
   "cell_type": "code",
   "execution_count": 69,
   "id": "30de97bd",
   "metadata": {},
   "outputs": [],
   "source": [
    "from imblearn.over_sampling import SMOTE # redistribute the unbalanced data with over sampling"
   ]
  },
  {
   "cell_type": "code",
   "execution_count": 71,
   "id": "63389c5f",
   "metadata": {},
   "outputs": [],
   "source": [
    "X = sc_data.drop(['microorganisms'], axis=1).to_numpy()\n",
    "y = sc_data['microorganisms'].to_numpy()\n",
    "sm = SMOTE(random_state=42)\n",
    "X_train_transformed, y_train_transformed = sm.fit_resample(X,y)"
   ]
  },
  {
   "cell_type": "code",
   "execution_count": 72,
   "id": "03c19dc7",
   "metadata": {},
   "outputs": [],
   "source": [
    "X_train,X_test,y_train, y_test = train_test_split(X,y,\n",
    "                                                 test_size=0.3,\n",
    "                                                 random_state=42,\n",
    "                                                 shuffle=True)"
   ]
  },
  {
   "cell_type": "markdown",
   "id": "1e9b2731",
   "metadata": {},
   "source": [
    "### 6. Baseline Models"
   ]
  },
  {
   "cell_type": "code",
   "execution_count": 73,
   "id": "72afef02",
   "metadata": {},
   "outputs": [],
   "source": [
    "# formate scoring output\n",
    "def score_format(model):\n",
    "    print(f'Accuracy: {round(model * 100, 2)} %')"
   ]
  },
  {
   "cell_type": "markdown",
   "id": "8d63a0df",
   "metadata": {},
   "source": [
    "#### K-Nearest Neighbors"
   ]
  },
  {
   "cell_type": "code",
   "execution_count": 74,
   "id": "aecd5366",
   "metadata": {},
   "outputs": [
    {
     "name": "stdout",
     "output_type": "stream",
     "text": [
      "Accuracy: 92.04 %\n"
     ]
    }
   ],
   "source": [
    "knn = KNeighborsClassifier()\n",
    "knn.fit(X_train, y_train)\n",
    "score_format(knn.score(X_test, y_test))"
   ]
  },
  {
   "cell_type": "markdown",
   "id": "5582a11d",
   "metadata": {},
   "source": [
    "#### Random Forest"
   ]
  },
  {
   "cell_type": "code",
   "execution_count": 75,
   "id": "306b06f7",
   "metadata": {},
   "outputs": [],
   "source": [
    "from sklearn.ensemble import RandomForestClassifier"
   ]
  },
  {
   "cell_type": "code",
   "execution_count": 76,
   "id": "582ba506",
   "metadata": {},
   "outputs": [
    {
     "name": "stdout",
     "output_type": "stream",
     "text": [
      "Accuracy: 98.46 %\n"
     ]
    }
   ],
   "source": [
    "rf = RandomForestClassifier()\n",
    "rf.fit(X_train, y_train)\n",
    "score_format(rf.score(X_test, y_test))"
   ]
  },
  {
   "cell_type": "markdown",
   "id": "ee660582",
   "metadata": {},
   "source": [
    "#### Gradient Boosting"
   ]
  },
  {
   "cell_type": "code",
   "execution_count": 79,
   "id": "8f4d923f",
   "metadata": {},
   "outputs": [],
   "source": [
    "from sklearn.ensemble import GradientBoostingClassifier"
   ]
  },
  {
   "cell_type": "code",
   "execution_count": 80,
   "id": "34049aee",
   "metadata": {},
   "outputs": [
    {
     "name": "stdout",
     "output_type": "stream",
     "text": [
      "Accuracy: 87.07 %\n"
     ]
    }
   ],
   "source": [
    "gb = GradientBoostingClassifier()\n",
    "gb.fit(X_train, y_train)\n",
    "score_format(gb.score(X_test, y_test))"
   ]
  },
  {
   "cell_type": "markdown",
   "id": "d6768108",
   "metadata": {},
   "source": [
    "#### Multi-Layer Perceptron"
   ]
  },
  {
   "cell_type": "code",
   "execution_count": 81,
   "id": "de695d18",
   "metadata": {},
   "outputs": [
    {
     "name": "stdout",
     "output_type": "stream",
     "text": [
      "Accuracy: 84.52 %\n"
     ]
    }
   ],
   "source": [
    "mlp = MLPClassifier(max_iter = 1000)\n",
    "mlp.fit(X_train, y_train)\n",
    "score_format(mlp.score(X_test, y_test))"
   ]
  },
  {
   "cell_type": "markdown",
   "id": "c92ae2b2",
   "metadata": {},
   "source": [
    "### 7. Cross Validation\n",
    "\n",
    "We will determine how well each model generalized on unseen data. Cross validation will treat entire dataset as a training and test set splitting into K equal parts, and altering training and test sets among those K-splits"
   ]
  },
  {
   "cell_type": "code",
   "execution_count": 82,
   "id": "38559be5",
   "metadata": {},
   "outputs": [],
   "source": [
    "models = [knn, rf, gb, mlp]"
   ]
  },
  {
   "cell_type": "code",
   "execution_count": 84,
   "id": "6e58de5d",
   "metadata": {},
   "outputs": [
    {
     "name": "stdout",
     "output_type": "stream",
     "text": [
      "CV accuracy: 0.934 +/- 0.014\n",
      "CV accuracy: 0.995 +/- 0.006\n",
      "CV accuracy: 0.814 +/- 0.030\n",
      "CV accuracy: 0.814 +/- 0.024\n"
     ]
    }
   ],
   "source": [
    "for model in models:\n",
    "    scores = cross_val_score(estimator=model,\n",
    "                             X=X,\n",
    "                             y=y,\n",
    "                             cv=10,\n",
    "                             n_jobs=-1)\n",
    "    print(f'CV accuracy: {np.mean(scores):.3f} +/- {np.std(scores):.3f}')"
   ]
  },
  {
   "cell_type": "markdown",
   "id": "3602bdc9",
   "metadata": {},
   "source": [
    "#### CV Scores\n",
    "- KNN- CV accuracy: 0.934 +/- 0.014\n",
    "- Random Forest- CV accuracy: 0.995 +/- 0.006\n",
    "- Gradient boosting- CV accuracy: 0.814 +/- 0.030\n",
    "- MLP- CV accuracy: 0.814 +/- 0.024"
   ]
  },
  {
   "cell_type": "markdown",
   "id": "8023996f",
   "metadata": {},
   "source": [
    "### Concluding remark"
   ]
  },
  {
   "cell_type": "markdown",
   "id": "be84eea3",
   "metadata": {},
   "source": [
    "- Random forest is the best predictor with the highest accuacy and lowest standard deviation (0.995 +/- 0.006)."
   ]
  }
 ],
 "metadata": {
  "kernelspec": {
   "display_name": "Python 3 (ipykernel)",
   "language": "python",
   "name": "python3"
  },
  "language_info": {
   "codemirror_mode": {
    "name": "ipython",
    "version": 3
   },
   "file_extension": ".py",
   "mimetype": "text/x-python",
   "name": "python",
   "nbconvert_exporter": "python",
   "pygments_lexer": "ipython3",
   "version": "3.7.13"
  }
 },
 "nbformat": 4,
 "nbformat_minor": 5
}
